{
 "cells": [
  {
   "cell_type": "code",
   "execution_count": null,
   "metadata": {},
   "outputs": [],
   "source": [
    "import datetime as dt\n",
    "import requests as req\n",
    "import pandas as pd\n",
    "import yfinance as yf\n",
    "import sqlite3 as sqlite"
   ]
  },
  {
   "cell_type": "code",
   "execution_count": null,
   "metadata": {},
   "outputs": [],
   "source": [
    "def GET_INDICE_COMPONENTS():\n",
    "    res  = req.get('https://www.slickcharts.com/sp500', headers={ 'User-Agent':'Mozilla/5.0 (X11; Linux x86_64) AppleWebKit/537.36 (KHTML, like Gecko) Chrome/108.0.0.0 Safari/537.36', 'X-Requested-With':'XMLHttpRequest' })\n",
    "    page = pd.read_html(res.content)\n",
    "    tbl  = page[0]\n",
    "    return tbl\n",
    "\n",
    "SNP_500 = GET_INDICE_COMPONENTS()['Symbol']"
   ]
  },
  {
   "cell_type": "code",
   "execution_count": null,
   "metadata": {
    "execution": {
     "iopub.execute_input": "2024-11-04T13:31:33.601508Z",
     "iopub.status.busy": "2024-11-04T13:31:33.601052Z",
     "iopub.status.idle": "2024-11-04T13:31:33.605018Z",
     "shell.execute_reply": "2024-11-04T13:31:33.604595Z"
    }
   },
   "outputs": [],
   "source": [
    "TICKERS = ['SPY','QQQ','IWM',*SNP_500.head(50)]\n",
    "TODAY   = dt.date.today()"
   ]
  },
  {
   "cell_type": "code",
   "execution_count": null,
   "metadata": {},
   "outputs": [],
   "source": [
    "def GET_AF_OPT_CHAINS(TICKERS):\n",
    "\n",
    "    # ================ Helpers ================ #\n",
    "    def _scrap(TICKER, EXPIRY, EXCHANGES=['NYSE','NASDAQ','AMEX'], STRIKES=50):\n",
    "        for i, EXCHANGE in enumerate(EXCHANGES):\n",
    "            try: \n",
    "                return pd.read_html(req.get(f\"https://www.advfn.com/stock-market/{EXCHANGE}/{TICKER}/options?expiry={EXPIRY}&strikes={STRIKES}\", headers={ 'User-Agent':'Mozilla/5.0 (X11; Linux x86_64) AppleWebKit/537.36 (KHTML, like Gecko) Chrome/108.0.0.0 Safari/537.36', 'X-Requested-With':'XMLHttpRequest' }).content)\n",
    "            except: \n",
    "                if i+1 == len(EXCHANGES): \n",
    "                    return [pd.DataFrame(), pd.DataFrame()]\n",
    "    \n",
    "\n",
    "    # ================ Main ================ #\n",
    "    Pipe = []\n",
    "    for TICKER in TICKERS:\n",
    "        Asset = yf.Ticker(TICKER)\n",
    "        price = Asset.info.get('previousClose')\n",
    "\n",
    "        for EXP in Asset.options:\n",
    "            page = _scrap(TICKER, EXP.replace('-','')) \n",
    "            for OPT in [0,1]: \n",
    "                try: \n",
    "                    Opt = page[OPT]\n",
    "                    Pipe.append(pd.DataFrame({\n",
    "                        'Date':     TODAY, \n",
    "                        'Ticker':   TICKER, \n",
    "                        'Price':    price, \n",
    "                        'Opt':      { 0:'C', 1:'P' }[OPT], \n",
    "                        'Expiry':   EXP, \n",
    "                        'Strike':   Opt['Strike'], \n",
    "                        'Vol':      Opt['Volume'], \n",
    "                        'OI':       Opt['OPEN INT'], \n",
    "                        'Ask':      Opt['Ask Price'], \n",
    "                        'Mid':      Opt['Midpoint'], \n",
    "                        'Bid':      Opt['Bid Price'], \n",
    "                        'Last':     Opt['Last Price'], \n",
    "                    }))\n",
    "                except Exception as E: print(E)\n",
    "            pass\n",
    "        pass\n",
    "    pass\n",
    "    return pd.concat(Pipe, ignore_index=1)\n",
    "\n",
    "Chains = GET_AF_OPT_CHAINS(TICKERS)\n",
    "Chains"
   ]
  },
  {
   "cell_type": "code",
   "execution_count": null,
   "metadata": {},
   "outputs": [],
   "source": [
    "con = sqlite.connect('Filebase.db')\n",
    "Chains.to_sql('Chain', con, if_exists='append', index=0)"
   ]
  }
 ],
 "metadata": {
  "kernelspec": {
   "display_name": "base",
   "language": "python",
   "name": "python3"
  },
  "language_info": {
   "codemirror_mode": {
    "name": "ipython",
    "version": 3
   },
   "file_extension": ".py",
   "mimetype": "text/x-python",
   "name": "python",
   "nbconvert_exporter": "python",
   "pygments_lexer": "ipython3",
   "version": "3.11.10"
  }
 },
 "nbformat": 4,
 "nbformat_minor": 2
}
