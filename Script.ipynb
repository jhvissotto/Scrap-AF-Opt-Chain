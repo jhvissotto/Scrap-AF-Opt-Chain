{
 "cells": [
  {
   "cell_type": "code",
   "execution_count": 1,
   "metadata": {
    "execution": {
     "iopub.execute_input": "2024-11-12T00:48:45.680182Z",
     "iopub.status.busy": "2024-11-12T00:48:45.679998Z",
     "iopub.status.idle": "2024-11-12T00:48:46.205951Z",
     "shell.execute_reply": "2024-11-12T00:48:46.205385Z"
    }
   },
   "outputs": [],
   "source": [
    "import datetime as dt\n",
    "import holidays\n",
    "import requests as req\n",
    "import pandas as pd\n",
    "import yfinance as yf\n",
    "import sqlite3 as sqlite"
   ]
  },
  {
   "cell_type": "code",
   "execution_count": 2,
   "metadata": {
    "execution": {
     "iopub.execute_input": "2024-11-12T00:48:46.208296Z",
     "iopub.status.busy": "2024-11-12T00:48:46.207743Z",
     "iopub.status.idle": "2024-11-12T00:48:46.420473Z",
     "shell.execute_reply": "2024-11-12T00:48:46.420001Z"
    }
   },
   "outputs": [],
   "source": [
    "def GET_INDICE_COMPONENTS():\n",
    "    res  = req.get('https://www.slickcharts.com/sp500', headers={ 'User-Agent':'Mozilla/5.0 (X11; Linux x86_64) AppleWebKit/537.36 (KHTML, like Gecko) Chrome/108.0.0.0 Safari/537.36', 'X-Requested-With':'XMLHttpRequest' })\n",
    "    page = pd.read_html(res.content)\n",
    "    tbl  = page[0]\n",
    "    return tbl\n",
    "\n",
    "SNP_500 = GET_INDICE_COMPONENTS()['Symbol']"
   ]
  },
  {
   "cell_type": "code",
   "execution_count": 3,
   "metadata": {
    "execution": {
     "iopub.execute_input": "2024-11-12T00:48:46.422297Z",
     "iopub.status.busy": "2024-11-12T00:48:46.422119Z",
     "iopub.status.idle": "2024-11-12T00:48:46.470575Z",
     "shell.execute_reply": "2024-11-12T00:48:46.470099Z"
    }
   },
   "outputs": [],
   "source": [
    "ETFS        = ['SPY','DIA','QQQ','XLF','XLC','XLE','XLU','XLP','XLK','XLV','XLI','XLY','XLB','XOP','XBI','XRT','XHB','XME','XLRE','IWM','IYR','NOBL','AMLP','OIH','KRE','VNQ','ITB','KBE','IBB','SMH']\n",
    "TICKERS     = [*ETFS, *SNP_500.head(50)]\n",
    "TODAY       = dt.date.today()\n",
    "IS_HOLIDAY  = TODAY in holidays.US(years=TODAY.year)"
   ]
  },
  {
   "cell_type": "code",
   "execution_count": 4,
   "metadata": {
    "execution": {
     "iopub.execute_input": "2024-11-12T00:48:46.472422Z",
     "iopub.status.busy": "2024-11-12T00:48:46.471952Z",
     "iopub.status.idle": "2024-11-12T00:48:46.474852Z",
     "shell.execute_reply": "2024-11-12T00:48:46.474269Z"
    }
   },
   "outputs": [],
   "source": [
    "if IS_HOLIDAY: raise Exception('IS_HOLIDAY')"
   ]
  },
  {
   "cell_type": "code",
   "execution_count": 5,
   "metadata": {
    "execution": {
     "iopub.execute_input": "2024-11-12T00:48:46.476741Z",
     "iopub.status.busy": "2024-11-12T00:48:46.476418Z",
     "iopub.status.idle": "2024-11-12T01:17:52.190814Z",
     "shell.execute_reply": "2024-11-12T01:17:52.190185Z"
    }
   },
   "outputs": [
    {
     "name": "stderr",
     "output_type": "stream",
     "text": [
      "/tmp/ipykernel_1766/2709542142.py:42: FutureWarning: The behavior of DataFrame concatenation with empty or all-NA entries is deprecated. In a future version, this will no longer exclude empty or all-NA columns when determining the result dtypes. To retain the old behavior, exclude the relevant entries before the concat operation.\n",
      "  return pd.concat(Pipe, ignore_index=1)\n"
     ]
    }
   ],
   "source": [
    "def GET_AF_OPT_CHAINS(TICKERS):\n",
    "\n",
    "    # ================ Helpers ================ #\n",
    "    def _scrap(TICKER, EXPIRY, EXCHANGES=['NYSE','NASDAQ','AMEX'], STRIKES=50):\n",
    "        for i, EXCHANGE in enumerate(EXCHANGES):\n",
    "            try: \n",
    "                return pd.read_html(req.get(f\"https://www.advfn.com/stock-market/{EXCHANGE}/{TICKER}/options?expiry={EXPIRY}&strikes={STRIKES}\", headers={ 'User-Agent':'Mozilla/5.0 (X11; Linux x86_64) AppleWebKit/537.36 (KHTML, like Gecko) Chrome/108.0.0.0 Safari/537.36', 'X-Requested-With':'XMLHttpRequest' }).content)\n",
    "            except: \n",
    "                if i+1 == len(EXCHANGES): \n",
    "                    return [pd.DataFrame(), pd.DataFrame()]\n",
    "    \n",
    "\n",
    "    # ================ Main ================ #\n",
    "    Pipe = []\n",
    "    for TICKER in TICKERS:\n",
    "        Asset = yf.Ticker(TICKER)\n",
    "        price = Asset.info.get('previousClose')\n",
    "\n",
    "        for EXP in Asset.options:\n",
    "            page = _scrap(TICKER, EXP.replace('-','')) \n",
    "            for OPT in [0,1]: \n",
    "                try: \n",
    "                    Opt = page[OPT]\n",
    "                    Pipe.append(pd.DataFrame({\n",
    "                        'Date':     TODAY, \n",
    "                        'Ticker':   TICKER, \n",
    "                        'Price':    price, \n",
    "                        'Opt':      { 0:'C', 1:'P' }[OPT], \n",
    "                        'Expiry':   EXP, \n",
    "                        'Strike':   Opt['Strike'], \n",
    "                        'Vol':      Opt['Volume'], \n",
    "                        'OI':       Opt['OPEN INT'], \n",
    "                        'Ask':      Opt['Ask Price'], \n",
    "                        'Mid':      Opt['Midpoint'], \n",
    "                        'Bid':      Opt['Bid Price'], \n",
    "                        'Last':     Opt['Last Price'], \n",
    "                    }))\n",
    "                except Exception as E: print(E)\n",
    "            pass\n",
    "        pass\n",
    "    pass\n",
    "    return pd.concat(Pipe, ignore_index=1)\n",
    "\n",
    "Chains = GET_AF_OPT_CHAINS(TICKERS)\n",
    "# Chains"
   ]
  },
  {
   "cell_type": "code",
   "execution_count": 6,
   "metadata": {
    "execution": {
     "iopub.execute_input": "2024-11-12T01:17:52.225784Z",
     "iopub.status.busy": "2024-11-12T01:17:52.225400Z",
     "iopub.status.idle": "2024-11-12T01:17:52.715699Z",
     "shell.execute_reply": "2024-11-12T01:17:52.715096Z"
    }
   },
   "outputs": [
    {
     "data": {
      "text/plain": [
       "135814"
      ]
     },
     "execution_count": 6,
     "metadata": {},
     "output_type": "execute_result"
    }
   ],
   "source": [
    "con = sqlite.connect('Filebase.db')\n",
    "Chains.to_sql('Chain', con, if_exists='append', index=0)"
   ]
  }
 ],
 "metadata": {
  "kernelspec": {
   "display_name": "base",
   "language": "python",
   "name": "python3"
  },
  "language_info": {
   "codemirror_mode": {
    "name": "ipython",
    "version": 3
   },
   "file_extension": ".py",
   "mimetype": "text/x-python",
   "name": "python",
   "nbconvert_exporter": "python",
   "pygments_lexer": "ipython3",
   "version": "3.12.7"
  }
 },
 "nbformat": 4,
 "nbformat_minor": 2
}
