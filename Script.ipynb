{
 "cells": [
  {
   "cell_type": "code",
   "execution_count": null,
   "metadata": {
    "execution": {
     "iopub.execute_input": "2024-11-15T00:53:35.081912Z",
     "iopub.status.busy": "2024-11-15T00:53:35.081732Z",
     "iopub.status.idle": "2024-11-15T00:53:35.554843Z",
     "shell.execute_reply": "2024-11-15T00:53:35.554276Z"
    }
   },
   "outputs": [],
   "source": [
    "import datetime as dt\n",
    "import holidays\n",
    "import requests as req\n",
    "import pandas as pd\n",
    "import yfinance as yf\n",
    "import sqlite3 as sqlite\n",
    "\n",
    "nan = float('nan')"
   ]
  },
  {
   "cell_type": "code",
   "execution_count": null,
   "metadata": {
    "execution": {
     "iopub.execute_input": "2024-11-15T00:53:35.556830Z",
     "iopub.status.busy": "2024-11-15T00:53:35.556584Z",
     "iopub.status.idle": "2024-11-15T00:53:35.947125Z",
     "shell.execute_reply": "2024-11-15T00:53:35.946595Z"
    }
   },
   "outputs": [],
   "source": [
    "def GET_INDICE_COMPONENTS():\n",
    "    res  = req.get('https://www.slickcharts.com/sp500', headers={ 'User-Agent':'Mozilla/5.0 (X11; Linux x86_64) AppleWebKit/537.36 (KHTML, like Gecko) Chrome/108.0.0.0 Safari/537.36', 'X-Requested-With':'XMLHttpRequest' })\n",
    "    page = pd.read_html(res.content)\n",
    "    tbl  = page[0]\n",
    "    return tbl\n",
    "\n",
    "SNP_500 = GET_INDICE_COMPONENTS()['Symbol']"
   ]
  },
  {
   "cell_type": "code",
   "execution_count": null,
   "metadata": {
    "execution": {
     "iopub.execute_input": "2024-11-15T00:53:35.949155Z",
     "iopub.status.busy": "2024-11-15T00:53:35.948778Z",
     "iopub.status.idle": "2024-11-15T00:53:35.997346Z",
     "shell.execute_reply": "2024-11-15T00:53:35.996815Z"
    }
   },
   "outputs": [],
   "source": [
    "ETFS        = ['SPY','DIA','QQQ','XLF','XLC','XLE','XLU','XLP','XLK','XLV','XLI','XLY','XLB','XOP','XBI','XRT','XHB','XME','XLRE','IWM','IYR','NOBL','AMLP','OIH','KRE','VNQ','ITB','KBE','IBB','SMH']\n",
    "TICKERS     = [*ETFS, *SNP_500.head(50)]\n",
    "TODAY       = dt.date.today()\n",
    "IS_HOLIDAY  = TODAY in holidays.US(years=TODAY.year)"
   ]
  },
  {
   "cell_type": "code",
   "execution_count": null,
   "metadata": {
    "execution": {
     "iopub.execute_input": "2024-11-15T00:53:35.999032Z",
     "iopub.status.busy": "2024-11-15T00:53:35.998721Z",
     "iopub.status.idle": "2024-11-15T00:53:36.001487Z",
     "shell.execute_reply": "2024-11-15T00:53:36.000976Z"
    }
   },
   "outputs": [],
   "source": [
    "if IS_HOLIDAY: raise Exception('IS_HOLIDAY')"
   ]
  },
  {
   "cell_type": "code",
   "execution_count": null,
   "metadata": {
    "execution": {
     "iopub.execute_input": "2024-11-15T00:53:36.003164Z",
     "iopub.status.busy": "2024-11-15T00:53:36.002817Z",
     "iopub.status.idle": "2024-11-15T01:34:28.364545Z",
     "shell.execute_reply": "2024-11-15T01:34:28.363924Z"
    }
   },
   "outputs": [],
   "source": [
    "def GET_AF_OPT_CHAINS(TICKERS):\n",
    "\n",
    "    # ================ Helpers ================ #\n",
    "    def _yf_Ticker(*a,**b):\n",
    "        try:    return yf.Ticker(*a,**b)\n",
    "        except: return None\n",
    "\n",
    "    def _yf_getPrice(Asset, alt=nan):\n",
    "        try:    return Asset.info.get('previousClose')\n",
    "        except: return alt\n",
    "\n",
    "    def _yf_getExps(Asset, alt=[]):\n",
    "        try:    return Asset.options\n",
    "        except: return alt\n",
    "    \n",
    "    def _af_scrap(TICKER, EXPIRY, EXCHANGES=['NYSE','NASDAQ','AMEX'], STRIKES=50):\n",
    "        for i, EXCHANGE in enumerate(EXCHANGES):\n",
    "            try: \n",
    "                return pd.read_html(req.get(f\"https://www.advfn.com/stock-market/{EXCHANGE}/{TICKER}/options?expiry={EXPIRY}&strikes={STRIKES}\", headers={ 'User-Agent':'Mozilla/5.0 (X11; Linux x86_64) AppleWebKit/537.36 (KHTML, like Gecko) Chrome/108.0.0.0 Safari/537.36', 'X-Requested-With':'XMLHttpRequest' }).content)\n",
    "            except: \n",
    "                if i+1 == len(EXCHANGES): \n",
    "                    return [pd.DataFrame(), pd.DataFrame()]\n",
    "    \n",
    "\n",
    "    # ================ Main ================ #\n",
    "    Pipe = []\n",
    "    for TICKER in TICKERS:\n",
    "        Asset = _yf_Ticker(TICKER)\n",
    "        price = _yf_getPrice(Asset)\n",
    "\n",
    "        for EXP in _yf_getExps(Asset):\n",
    "            page = _af_scrap(TICKER, EXP.replace('-','')) \n",
    "            for OPT in [0,1]: \n",
    "                try: \n",
    "                    Opt = page[OPT]\n",
    "                    Pipe.append(pd.DataFrame({\n",
    "                        'Date':     TODAY, \n",
    "                        'Ticker':   TICKER, \n",
    "                        'Price':    price, \n",
    "                        'Opt':      { 0:'C', 1:'P' }[OPT], \n",
    "                        'Expiry':   EXP, \n",
    "                        'Strike':   Opt['Strike'], \n",
    "                        'Vol':      Opt['Volume'], \n",
    "                        'OI':       Opt['OPEN INT'], \n",
    "                        'Ask':      Opt['Ask Price'], \n",
    "                        'Mid':      Opt['Midpoint'], \n",
    "                        'Bid':      Opt['Bid Price'], \n",
    "                        'Last':     Opt['Last Price'], \n",
    "                    }))\n",
    "                except Exception as E: print(E)\n",
    "            pass\n",
    "        pass\n",
    "    pass\n",
    "    return pd.concat(Pipe, ignore_index=1)\n",
    "\n",
    "Chains = GET_AF_OPT_CHAINS(TICKERS)\n",
    "# Chains"
   ]
  },
  {
   "cell_type": "code",
   "execution_count": null,
   "metadata": {
    "execution": {
     "iopub.execute_input": "2024-11-15T01:34:28.399591Z",
     "iopub.status.busy": "2024-11-15T01:34:28.399168Z",
     "iopub.status.idle": "2024-11-15T01:34:28.895500Z",
     "shell.execute_reply": "2024-11-15T01:34:28.894993Z"
    }
   },
   "outputs": [],
   "source": [
    "con = sqlite.connect('Filebase.db')\n",
    "Chains.to_sql('Chain', con, if_exists='append', index=0)"
   ]
  }
 ],
 "metadata": {
  "kernelspec": {
   "display_name": "base",
   "language": "python",
   "name": "python3"
  },
  "language_info": {
   "codemirror_mode": {
    "name": "ipython",
    "version": 3
   },
   "file_extension": ".py",
   "mimetype": "text/x-python",
   "name": "python",
   "nbconvert_exporter": "python",
   "pygments_lexer": "ipython3",
   "version": "3.11.10"
  }
 },
 "nbformat": 4,
 "nbformat_minor": 2
}
